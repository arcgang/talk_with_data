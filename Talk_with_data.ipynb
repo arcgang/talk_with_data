{
 "cells": [
  {
   "cell_type": "code",
   "execution_count": null,
   "metadata": {},
   "outputs": [],
   "source": [
    "!pip install langchain tiktoken langchain_experimental sentence-transformers google-generativeai"
   ]
  },
  {
   "cell_type": "code",
   "execution_count": null,
   "metadata": {},
   "outputs": [],
   "source": [
    "from langchain.llms import GooglePalm\n",
    "\n",
    "import yaml\n",
    "with open(\"config.yml\", 'r') as ymlfile:\n",
    "    cfg = yaml.safe_load(ymlfile)\n",
    "\n",
    "\n",
    "api_key = cfg['creds']['api_creds']['api_key']\n",
    "llm = GooglePalm(google_api_key=api_key, temperature=0.1)\n"
   ]
  },
  {
   "cell_type": "code",
   "execution_count": null,
   "metadata": {},
   "outputs": [],
   "source": [
    "llm(\"write a short summary of what Google Palm can do with respect to SQL code generation\")"
   ]
  },
  {
   "cell_type": "code",
   "execution_count": null,
   "metadata": {},
   "outputs": [],
   "source": [
    "from langchain.utilities import SQLDatabase\n",
    "\n",
    "db_user = cfg['creds']['db_creds']['username']\n",
    "db_password = cfg['creds']['db_creds']['password']\n",
    "db_host = cfg['creds']['db_creds']['host']\n",
    "db_name = cfg['creds']['db_creds']['database']\n",
    "\n",
    "# schema to access is \"logistics\". Replace schema name here with your database schema\n",
    "\n",
    "db = SQLDatabase.from_uri(f\"postgresql+psycopg2://{db_user}:{db_password}@{db_host}/{db_name}\", schema=\"logistics\", sample_rows_in_table_info=3)\n",
    "print(db.table_info)"
   ]
  },
  {
   "cell_type": "code",
   "execution_count": null,
   "metadata": {},
   "outputs": [],
   "source": [
    "from langchain_experimental.sql import SQLDatabaseChain\n",
    "\n",
    "db_chain = SQLDatabaseChain.from_llm(llm, db, verbose=True)\n",
    "question_1 db_chain(\"What is the total gross weight of orders that are fulfilled?\")"
   ]
  },
  {
   "cell_type": "code",
   "execution_count": null,
   "metadata": {},
   "outputs": [],
   "source": [
    "question_2 = db_chain.run(\"How many Chocolate based orders are fulfilled till now ?\")"
   ]
  },
  {
   "cell_type": "code",
   "execution_count": null,
   "metadata": {},
   "outputs": [],
   "source": []
  }
 ],
 "metadata": {
  "language_info": {
   "name": "python"
  }
 },
 "nbformat": 4,
 "nbformat_minor": 2
}
